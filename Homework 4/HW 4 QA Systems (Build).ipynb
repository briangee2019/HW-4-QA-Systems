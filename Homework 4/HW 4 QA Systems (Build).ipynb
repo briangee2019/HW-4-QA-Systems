{
 "cells": [
  {
   "cell_type": "markdown",
   "metadata": {},
   "source": [
    "# Preparation: Libraries/Packages and Data"
   ]
  },
  {
   "cell_type": "code",
   "execution_count": 1,
   "metadata": {},
   "outputs": [],
   "source": [
    "# Import Libraries\n",
    "import os\n",
    "import csv\n",
    "import numpy as np\n",
    "import pandas as pd\n",
    "import pprint\n",
    "#pickle\n",
    "import pickle\n",
    "# regex\n",
    "import re\n",
    "# nltk\n",
    "import nltk\n",
    "from nltk import pos_tag\n",
    "from nltk.stem import PorterStemmer \n",
    "from nltk.tokenize import RegexpTokenizer,word_tokenize,sent_tokenize\n",
    "from nltk.corpus import stopwords\n",
    "from nltk.corpus import wordnet\n",
    "from nltk.stem import WordNetLemmatizer \n",
    "# sklearn\n",
    "from sklearn.linear_model import LogisticRegression # (setting multi_class=”multinomial”)\n",
    "from sklearn.ensemble import RandomForestClassifier\n",
    "from sklearn.naive_bayes import GaussianNB \n",
    "from sklearn.metrics import confusion_matrix \n",
    "from sklearn.model_selection import train_test_split \n",
    "from sklearn.feature_extraction.text import CountVectorizer\n",
    "from sklearn.feature_extraction.text import TfidfVectorizer\n",
    "# textblob\n",
    "#from textblob import TextBlob\n",
    "# itertools\n",
    "from itertools import islice\n",
    "# spacy\n",
    "import spacy\n",
    "from spacy import displacy\n",
    "from collections import Counter\n",
    "import en_core_web_sm\n",
    "nlp = en_core_web_sm.load()"
   ]
  },
  {
   "cell_type": "markdown",
   "metadata": {},
   "source": [
    "# Document Retrieval:"
   ]
  },
  {
   "cell_type": "code",
   "execution_count": 8,
   "metadata": {},
   "outputs": [
    {
     "name": "stdout",
     "output_type": "stream",
     "text": [
      "[WinError 2] The system cannot find the file specified: 'Homework 4'\n",
      "C:\\Users\\brian\\Desktop\\IEMS 308\\Homework 4\\Saved Objects\n"
     ]
    }
   ],
   "source": [
    "cd \"Homework 4\""
   ]
  },
  {
   "cell_type": "code",
   "execution_count": 12,
   "metadata": {},
   "outputs": [
    {
     "name": "stdout",
     "output_type": "stream",
     "text": [
      "C:\\Users\\brian\\Desktop\\IEMS 308\\Homework 4\n"
     ]
    }
   ],
   "source": [
    "cd .."
   ]
  },
  {
   "cell_type": "code",
   "execution_count": 5,
   "metadata": {},
   "outputs": [],
   "source": [
    "# Get full list of filenames\n",
    "cd(\"Data\")\n",
    "files = os.listdir()\n",
    "\n",
    "# Get dictionary {matrix index: filename}\n",
    "doc_index_dict = {}\n",
    "i=0\n",
    "for file in files:\n",
    "    doc_index_dict[i] = file\n",
    "    i+=1\n",
    "\n",
    "# Get dictionary {doc_name, text} \n",
    "doc_text_dict = {}\n",
    "for file in files:\n",
    "    with open(file,errors='ignore') as f:\n",
    "        item = f.read()\n",
    "    doc_text_dict[file] = item"
   ]
  },
  {
   "cell_type": "code",
   "execution_count": null,
   "metadata": {},
   "outputs": [],
   "source": [
    "cd ..\n",
    "cd(\"Saved Objects\")\n",
    "#pickle the dictionaries we made and save in \"Saved Objects folder\"\n",
    "pickle.dump(doc_index_dict,open('doc_index_dict.pickle','wb'))\n",
    "pickle.dump(doc_text_dict,open('doc_text_dict.pickle','wb'))"
   ]
  },
  {
   "cell_type": "code",
   "execution_count": 13,
   "metadata": {},
   "outputs": [],
   "source": [
    "# Create list of all texts (order matters! for later) \n",
    "texts = [] #put all document texts in list for vectorizers\n",
    "for tuple in take(730,doc_text_dict.items()):\n",
    "    texts.append(tuple[1])\n",
    "pickle.dump(texts,open(\"texts.pickle\",'wb'))"
   ]
  },
  {
   "cell_type": "markdown",
   "metadata": {},
   "source": [
    "## Score Documents for Retrieval\n",
    "Keyword, Document, Subset of Document\n",
    "http://jonathansoma.com/lede/algorithms-2017/classes/more-text-analysis/counting-and-stemming/"
   ]
  },
  {
   "cell_type": "code",
   "execution_count": 16,
   "metadata": {
    "scrolled": true
   },
   "outputs": [],
   "source": [
    "# Make Tf-idf vectorizer for documents\n",
    "tfidf_vec = TfidfVectorizer(tokenizer = textblob_tokenizer,\n",
    "                      use_idf = False,norm='l2')\n",
    "                      #vocabulary = stem_kw) # L - TWO (cosine similarity)\n",
    "\n",
    "# Say hey vectorizer, please read our stuff\n",
    "matrix = tfidf_vec.fit_transform(texts)\n",
    "\n",
    "# And make a dataframe out of it\n",
    "tfidf_docs = pd.DataFrame(matrix.toarray(), columns=tfidf_vec.get_feature_names())\n",
    "pickle.dump(tfidf_docs,open(\"tfidf_docs.pickle\",'wb'))"
   ]
  }
 ],
 "metadata": {
  "kernelspec": {
   "display_name": "Python 3",
   "language": "python",
   "name": "python3"
  },
  "language_info": {
   "codemirror_mode": {
    "name": "ipython",
    "version": 3
   },
   "file_extension": ".py",
   "mimetype": "text/x-python",
   "name": "python",
   "nbconvert_exporter": "python",
   "pygments_lexer": "ipython3",
   "version": "3.6.7"
  }
 },
 "nbformat": 4,
 "nbformat_minor": 2
}
